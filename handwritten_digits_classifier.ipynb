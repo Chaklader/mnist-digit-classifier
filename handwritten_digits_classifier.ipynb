{
 "cells": [
  {
   "cell_type": "markdown",
   "metadata": {},
   "source": [
    "# Introduction\n",
    "\n",
    "In this project, you will build a neural network of your own design to evaluate the MNIST dataset.\n",
    "\n",
    "Some of the benchmark results on MNIST include can be found [on Yann LeCun's page](https://webcache.googleusercontent.com/search?q=cache:stAVPik6onEJ:yann.lecun.com/exdb/mnist) and include:\n",
    "\n",
    "88% [Lecun et al., 1998](https://hal.science/hal-03926082/document)\n",
    "\n",
    "95.3% [Lecun et al., 1998](https://hal.science/hal-03926082v1/document)\n",
    "\n",
    "99.65% [Ciresan et al., 2011](http://people.idsia.ch/~juergen/ijcai2011.pdf)\n",
    "\n",
    "\n",
    "MNIST is a great dataset for sanity checking your models, since the accuracy levels achieved by large convolutional neural networks and small linear models are both quite high. This makes it important to be familiar with the data.\n",
    "\n",
    "## Installation"
   ]
  },
  {
   "cell_type": "code",
   "metadata": {
    "ExecuteTime": {
     "end_time": "2024-10-19T07:06:29.602453Z",
     "start_time": "2024-10-19T07:06:29.599986Z"
    }
   },
   "source": [
    "# Update the PATH to include the user installation directory. \n",
    "import os\n",
    "os.environ['PATH'] = f\"{os.environ['PATH']}:/root/.local/bin\"\n",
    "\n",
    "# Restart the Kernel before you move on to the next step."
   ],
   "outputs": [],
   "execution_count": 12
  },
  {
   "cell_type": "markdown",
   "metadata": {},
   "source": [
    "#### Important: Restart the Kernel before you move on to the next step."
   ]
  },
  {
   "cell_type": "code",
   "metadata": {
    "ExecuteTime": {
     "end_time": "2024-10-19T07:09:05.099971Z",
     "start_time": "2024-10-19T07:06:51.482788Z"
    }
   },
   "source": [
    "# Install requirements\n",
    "!python -m pip install -r requirements.txt"
   ],
   "outputs": [
    {
     "name": "stdout",
     "output_type": "stream",
     "text": [
      "Collecting opencv-python-headless==4.8.1.78 (from -r requirements.txt (line 1))\r\n",
      "  Downloading opencv_python_headless-4.8.1.78-cp37-abi3-macosx_11_0_arm64.whl.metadata (19 kB)\r\n",
      "Collecting matplotlib==3.8.2 (from -r requirements.txt (line 2))\r\n",
      "  Downloading matplotlib-3.8.2-cp39-cp39-macosx_11_0_arm64.whl.metadata (5.8 kB)\r\n",
      "Collecting numpy==1.26.2 (from -r requirements.txt (line 3))\r\n",
      "  Downloading numpy-1.26.2-cp39-cp39-macosx_11_0_arm64.whl.metadata (61 kB)\r\n",
      "Collecting pillow==10.1.0 (from -r requirements.txt (line 4))\r\n",
      "  Downloading Pillow-10.1.0-cp39-cp39-macosx_11_0_arm64.whl.metadata (9.5 kB)\r\n",
      "Collecting bokeh==3.3.2 (from -r requirements.txt (line 5))\r\n",
      "  Downloading bokeh-3.3.2-py3-none-any.whl.metadata (12 kB)\r\n",
      "Collecting torch==2.1.1 (from -r requirements.txt (line 6))\r\n",
      "  Downloading torch-2.1.1-cp39-none-macosx_11_0_arm64.whl.metadata (25 kB)\r\n",
      "Collecting torchvision==0.16.1 (from -r requirements.txt (line 7))\r\n",
      "  Downloading torchvision-0.16.1-cp39-cp39-macosx_11_0_arm64.whl.metadata (6.6 kB)\r\n",
      "Collecting tqdm==4.66.1 (from -r requirements.txt (line 8))\r\n",
      "  Downloading tqdm-4.66.1-py3-none-any.whl.metadata (57 kB)\r\n",
      "Collecting ipywidgets==8.1.1 (from -r requirements.txt (line 9))\r\n",
      "  Downloading ipywidgets-8.1.1-py3-none-any.whl.metadata (2.4 kB)\r\n",
      "Collecting livelossplot==0.5.5 (from -r requirements.txt (line 10))\r\n",
      "  Downloading livelossplot-0.5.5-py3-none-any.whl.metadata (8.7 kB)\r\n",
      "Collecting pytest==7.4.3 (from -r requirements.txt (line 11))\r\n",
      "  Downloading pytest-7.4.3-py3-none-any.whl.metadata (7.9 kB)\r\n",
      "Collecting pandas==2.1.3 (from -r requirements.txt (line 12))\r\n",
      "  Downloading pandas-2.1.3-cp39-cp39-macosx_11_0_arm64.whl.metadata (18 kB)\r\n",
      "Collecting seaborn==0.13.0 (from -r requirements.txt (line 13))\r\n",
      "  Downloading seaborn-0.13.0-py3-none-any.whl.metadata (5.3 kB)\r\n",
      "Requirement already satisfied: jupyter==1.0.0 in /opt/miniconda3/envs/introai/lib/python3.9/site-packages (from -r requirements.txt (line 14)) (1.0.0)\r\n",
      "Collecting ipykernel==6.27.1 (from -r requirements.txt (line 15))\r\n",
      "  Downloading ipykernel-6.27.1-py3-none-any.whl.metadata (6.3 kB)\r\n",
      "Requirement already satisfied: contourpy>=1.0.1 in /opt/miniconda3/envs/introai/lib/python3.9/site-packages (from matplotlib==3.8.2->-r requirements.txt (line 2)) (1.3.0)\r\n",
      "Requirement already satisfied: cycler>=0.10 in /opt/miniconda3/envs/introai/lib/python3.9/site-packages (from matplotlib==3.8.2->-r requirements.txt (line 2)) (0.12.1)\r\n",
      "Requirement already satisfied: fonttools>=4.22.0 in /opt/miniconda3/envs/introai/lib/python3.9/site-packages (from matplotlib==3.8.2->-r requirements.txt (line 2)) (4.54.1)\r\n",
      "Requirement already satisfied: kiwisolver>=1.3.1 in /opt/miniconda3/envs/introai/lib/python3.9/site-packages (from matplotlib==3.8.2->-r requirements.txt (line 2)) (1.4.7)\r\n",
      "Requirement already satisfied: packaging>=20.0 in /opt/miniconda3/envs/introai/lib/python3.9/site-packages (from matplotlib==3.8.2->-r requirements.txt (line 2)) (24.1)\r\n",
      "Requirement already satisfied: pyparsing>=2.3.1 in /opt/miniconda3/envs/introai/lib/python3.9/site-packages (from matplotlib==3.8.2->-r requirements.txt (line 2)) (3.1.4)\r\n",
      "Requirement already satisfied: python-dateutil>=2.7 in /opt/miniconda3/envs/introai/lib/python3.9/site-packages (from matplotlib==3.8.2->-r requirements.txt (line 2)) (2.9.0)\r\n",
      "Requirement already satisfied: importlib-resources>=3.2.0 in /opt/miniconda3/envs/introai/lib/python3.9/site-packages (from matplotlib==3.8.2->-r requirements.txt (line 2)) (6.4.5)\r\n",
      "Requirement already satisfied: Jinja2>=2.9 in /opt/miniconda3/envs/introai/lib/python3.9/site-packages (from bokeh==3.3.2->-r requirements.txt (line 5)) (3.1.4)\r\n",
      "Requirement already satisfied: PyYAML>=3.10 in /opt/miniconda3/envs/introai/lib/python3.9/site-packages (from bokeh==3.3.2->-r requirements.txt (line 5)) (6.0.2)\r\n",
      "Requirement already satisfied: tornado>=5.1 in /opt/miniconda3/envs/introai/lib/python3.9/site-packages (from bokeh==3.3.2->-r requirements.txt (line 5)) (6.4.1)\r\n",
      "Collecting xyzservices>=2021.09.1 (from bokeh==3.3.2->-r requirements.txt (line 5))\r\n",
      "  Downloading xyzservices-2024.9.0-py3-none-any.whl.metadata (4.1 kB)\r\n",
      "Requirement already satisfied: filelock in /opt/miniconda3/envs/introai/lib/python3.9/site-packages (from torch==2.1.1->-r requirements.txt (line 6)) (3.16.1)\r\n",
      "Requirement already satisfied: typing-extensions in /opt/miniconda3/envs/introai/lib/python3.9/site-packages (from torch==2.1.1->-r requirements.txt (line 6)) (4.12.2)\r\n",
      "Requirement already satisfied: sympy in /opt/miniconda3/envs/introai/lib/python3.9/site-packages (from torch==2.1.1->-r requirements.txt (line 6)) (1.13.3)\r\n",
      "Requirement already satisfied: networkx in /opt/miniconda3/envs/introai/lib/python3.9/site-packages (from torch==2.1.1->-r requirements.txt (line 6)) (3.2.1)\r\n",
      "Requirement already satisfied: fsspec in /opt/miniconda3/envs/introai/lib/python3.9/site-packages (from torch==2.1.1->-r requirements.txt (line 6)) (2024.9.0)\r\n",
      "Requirement already satisfied: requests in /opt/miniconda3/envs/introai/lib/python3.9/site-packages (from torchvision==0.16.1->-r requirements.txt (line 7)) (2.32.3)\r\n",
      "Requirement already satisfied: comm>=0.1.3 in /opt/miniconda3/envs/introai/lib/python3.9/site-packages (from ipywidgets==8.1.1->-r requirements.txt (line 9)) (0.2.2)\r\n",
      "Requirement already satisfied: ipython>=6.1.0 in /opt/miniconda3/envs/introai/lib/python3.9/site-packages (from ipywidgets==8.1.1->-r requirements.txt (line 9)) (8.18.1)\r\n",
      "Requirement already satisfied: traitlets>=4.3.1 in /opt/miniconda3/envs/introai/lib/python3.9/site-packages (from ipywidgets==8.1.1->-r requirements.txt (line 9)) (5.14.3)\r\n",
      "Collecting widgetsnbextension~=4.0.9 (from ipywidgets==8.1.1->-r requirements.txt (line 9))\r\n",
      "  Using cached widgetsnbextension-4.0.13-py3-none-any.whl.metadata (1.6 kB)\r\n",
      "Requirement already satisfied: jupyterlab-widgets~=3.0.9 in /opt/miniconda3/envs/introai/lib/python3.9/site-packages (from ipywidgets==8.1.1->-r requirements.txt (line 9)) (3.0.13)\r\n",
      "Requirement already satisfied: iniconfig in /opt/miniconda3/envs/introai/lib/python3.9/site-packages (from pytest==7.4.3->-r requirements.txt (line 11)) (2.0.0)\r\n",
      "Requirement already satisfied: pluggy<2.0,>=0.12 in /opt/miniconda3/envs/introai/lib/python3.9/site-packages (from pytest==7.4.3->-r requirements.txt (line 11)) (1.5.0)\r\n",
      "Requirement already satisfied: exceptiongroup>=1.0.0rc8 in /opt/miniconda3/envs/introai/lib/python3.9/site-packages (from pytest==7.4.3->-r requirements.txt (line 11)) (1.2.2)\r\n",
      "Requirement already satisfied: tomli>=1.0.0 in /opt/miniconda3/envs/introai/lib/python3.9/site-packages (from pytest==7.4.3->-r requirements.txt (line 11)) (2.0.1)\r\n",
      "Requirement already satisfied: pytz>=2020.1 in /opt/miniconda3/envs/introai/lib/python3.9/site-packages (from pandas==2.1.3->-r requirements.txt (line 12)) (2024.1)\r\n",
      "Requirement already satisfied: tzdata>=2022.1 in /opt/miniconda3/envs/introai/lib/python3.9/site-packages (from pandas==2.1.3->-r requirements.txt (line 12)) (2024.2)\r\n",
      "Requirement already satisfied: notebook in /opt/miniconda3/envs/introai/lib/python3.9/site-packages (from jupyter==1.0.0->-r requirements.txt (line 14)) (6.5.7)\r\n",
      "Requirement already satisfied: qtconsole in /opt/miniconda3/envs/introai/lib/python3.9/site-packages (from jupyter==1.0.0->-r requirements.txt (line 14)) (5.6.0)\r\n",
      "Requirement already satisfied: jupyter-console in /opt/miniconda3/envs/introai/lib/python3.9/site-packages (from jupyter==1.0.0->-r requirements.txt (line 14)) (6.4.4)\r\n",
      "Requirement already satisfied: nbconvert in /opt/miniconda3/envs/introai/lib/python3.9/site-packages (from jupyter==1.0.0->-r requirements.txt (line 14)) (7.16.4)\r\n",
      "Requirement already satisfied: appnope in /opt/miniconda3/envs/introai/lib/python3.9/site-packages (from ipykernel==6.27.1->-r requirements.txt (line 15)) (0.1.4)\r\n",
      "Requirement already satisfied: debugpy>=1.6.5 in /opt/miniconda3/envs/introai/lib/python3.9/site-packages (from ipykernel==6.27.1->-r requirements.txt (line 15)) (1.8.6)\r\n",
      "Requirement already satisfied: jupyter-client>=6.1.12 in /opt/miniconda3/envs/introai/lib/python3.9/site-packages (from ipykernel==6.27.1->-r requirements.txt (line 15)) (7.4.9)\r\n",
      "Requirement already satisfied: jupyter-core!=5.0.*,>=4.12 in /opt/miniconda3/envs/introai/lib/python3.9/site-packages (from ipykernel==6.27.1->-r requirements.txt (line 15)) (5.7.2)\r\n",
      "Requirement already satisfied: matplotlib-inline>=0.1 in /opt/miniconda3/envs/introai/lib/python3.9/site-packages (from ipykernel==6.27.1->-r requirements.txt (line 15)) (0.1.7)\r\n",
      "Requirement already satisfied: nest-asyncio in /opt/miniconda3/envs/introai/lib/python3.9/site-packages (from ipykernel==6.27.1->-r requirements.txt (line 15)) (1.6.0)\r\n",
      "Requirement already satisfied: psutil in /opt/miniconda3/envs/introai/lib/python3.9/site-packages (from ipykernel==6.27.1->-r requirements.txt (line 15)) (6.0.0)\r\n",
      "Requirement already satisfied: pyzmq>=20 in /opt/miniconda3/envs/introai/lib/python3.9/site-packages (from ipykernel==6.27.1->-r requirements.txt (line 15)) (26.2.0)\r\n",
      "Requirement already satisfied: zipp>=3.1.0 in /opt/miniconda3/envs/introai/lib/python3.9/site-packages (from importlib-resources>=3.2.0->matplotlib==3.8.2->-r requirements.txt (line 2)) (3.20.2)\r\n",
      "Requirement already satisfied: decorator in /opt/miniconda3/envs/introai/lib/python3.9/site-packages (from ipython>=6.1.0->ipywidgets==8.1.1->-r requirements.txt (line 9)) (5.1.1)\r\n",
      "Requirement already satisfied: jedi>=0.16 in /opt/miniconda3/envs/introai/lib/python3.9/site-packages (from ipython>=6.1.0->ipywidgets==8.1.1->-r requirements.txt (line 9)) (0.19.1)\r\n",
      "Requirement already satisfied: prompt-toolkit<3.1.0,>=3.0.41 in /opt/miniconda3/envs/introai/lib/python3.9/site-packages (from ipython>=6.1.0->ipywidgets==8.1.1->-r requirements.txt (line 9)) (3.0.48)\r\n",
      "Requirement already satisfied: pygments>=2.4.0 in /opt/miniconda3/envs/introai/lib/python3.9/site-packages (from ipython>=6.1.0->ipywidgets==8.1.1->-r requirements.txt (line 9)) (2.18.0)\r\n",
      "Requirement already satisfied: stack-data in /opt/miniconda3/envs/introai/lib/python3.9/site-packages (from ipython>=6.1.0->ipywidgets==8.1.1->-r requirements.txt (line 9)) (0.6.2)\r\n",
      "Requirement already satisfied: pexpect>4.3 in /opt/miniconda3/envs/introai/lib/python3.9/site-packages (from ipython>=6.1.0->ipywidgets==8.1.1->-r requirements.txt (line 9)) (4.9.0)\r\n",
      "Requirement already satisfied: MarkupSafe>=2.0 in /opt/miniconda3/envs/introai/lib/python3.9/site-packages (from Jinja2>=2.9->bokeh==3.3.2->-r requirements.txt (line 5)) (2.1.5)\r\n",
      "Requirement already satisfied: entrypoints in /opt/miniconda3/envs/introai/lib/python3.9/site-packages (from jupyter-client>=6.1.12->ipykernel==6.27.1->-r requirements.txt (line 15)) (0.4)\r\n",
      "Requirement already satisfied: platformdirs>=2.5 in /opt/miniconda3/envs/introai/lib/python3.9/site-packages (from jupyter-core!=5.0.*,>=4.12->ipykernel==6.27.1->-r requirements.txt (line 15)) (4.3.6)\r\n",
      "Requirement already satisfied: six>=1.5 in /opt/miniconda3/envs/introai/lib/python3.9/site-packages (from python-dateutil>=2.7->matplotlib==3.8.2->-r requirements.txt (line 2)) (1.16.0)\r\n",
      "Requirement already satisfied: beautifulsoup4 in /opt/miniconda3/envs/introai/lib/python3.9/site-packages (from nbconvert->jupyter==1.0.0->-r requirements.txt (line 14)) (4.12.3)\r\n",
      "Requirement already satisfied: bleach!=5.0.0 in /opt/miniconda3/envs/introai/lib/python3.9/site-packages (from nbconvert->jupyter==1.0.0->-r requirements.txt (line 14)) (6.1.0)\r\n",
      "Requirement already satisfied: defusedxml in /opt/miniconda3/envs/introai/lib/python3.9/site-packages (from nbconvert->jupyter==1.0.0->-r requirements.txt (line 14)) (0.7.1)\r\n",
      "Requirement already satisfied: importlib-metadata>=3.6 in /opt/miniconda3/envs/introai/lib/python3.9/site-packages (from nbconvert->jupyter==1.0.0->-r requirements.txt (line 14)) (8.5.0)\r\n",
      "Requirement already satisfied: jupyterlab-pygments in /opt/miniconda3/envs/introai/lib/python3.9/site-packages (from nbconvert->jupyter==1.0.0->-r requirements.txt (line 14)) (0.3.0)\r\n",
      "Requirement already satisfied: mistune<4,>=2.0.3 in /opt/miniconda3/envs/introai/lib/python3.9/site-packages (from nbconvert->jupyter==1.0.0->-r requirements.txt (line 14)) (3.0.2)\r\n",
      "Requirement already satisfied: nbclient>=0.5.0 in /opt/miniconda3/envs/introai/lib/python3.9/site-packages (from nbconvert->jupyter==1.0.0->-r requirements.txt (line 14)) (0.10.0)\r\n",
      "Requirement already satisfied: nbformat>=5.7 in /opt/miniconda3/envs/introai/lib/python3.9/site-packages (from nbconvert->jupyter==1.0.0->-r requirements.txt (line 14)) (5.10.4)\r\n",
      "Requirement already satisfied: pandocfilters>=1.4.1 in /opt/miniconda3/envs/introai/lib/python3.9/site-packages (from nbconvert->jupyter==1.0.0->-r requirements.txt (line 14)) (1.5.0)\r\n",
      "Requirement already satisfied: tinycss2 in /opt/miniconda3/envs/introai/lib/python3.9/site-packages (from nbconvert->jupyter==1.0.0->-r requirements.txt (line 14)) (1.3.0)\r\n",
      "Requirement already satisfied: argon2-cffi in /opt/miniconda3/envs/introai/lib/python3.9/site-packages (from notebook->jupyter==1.0.0->-r requirements.txt (line 14)) (23.1.0)\r\n",
      "Requirement already satisfied: ipython-genutils in /opt/miniconda3/envs/introai/lib/python3.9/site-packages (from notebook->jupyter==1.0.0->-r requirements.txt (line 14)) (0.2.0)\r\n",
      "Requirement already satisfied: Send2Trash>=1.8.0 in /opt/miniconda3/envs/introai/lib/python3.9/site-packages (from notebook->jupyter==1.0.0->-r requirements.txt (line 14)) (1.8.3)\r\n",
      "Requirement already satisfied: terminado>=0.8.3 in /opt/miniconda3/envs/introai/lib/python3.9/site-packages (from notebook->jupyter==1.0.0->-r requirements.txt (line 14)) (0.18.1)\r\n",
      "Requirement already satisfied: prometheus-client in /opt/miniconda3/envs/introai/lib/python3.9/site-packages (from notebook->jupyter==1.0.0->-r requirements.txt (line 14)) (0.21.0)\r\n",
      "Requirement already satisfied: nbclassic>=0.4.7 in /opt/miniconda3/envs/introai/lib/python3.9/site-packages (from notebook->jupyter==1.0.0->-r requirements.txt (line 14)) (1.1.0)\r\n",
      "Requirement already satisfied: qtpy>=2.4.0 in /opt/miniconda3/envs/introai/lib/python3.9/site-packages (from qtconsole->jupyter==1.0.0->-r requirements.txt (line 14)) (2.4.1)\r\n",
      "Requirement already satisfied: charset-normalizer<4,>=2 in /opt/miniconda3/envs/introai/lib/python3.9/site-packages (from requests->torchvision==0.16.1->-r requirements.txt (line 7)) (3.3.2)\r\n",
      "Requirement already satisfied: idna<4,>=2.5 in /opt/miniconda3/envs/introai/lib/python3.9/site-packages (from requests->torchvision==0.16.1->-r requirements.txt (line 7)) (3.10)\r\n",
      "Requirement already satisfied: urllib3<3,>=1.21.1 in /opt/miniconda3/envs/introai/lib/python3.9/site-packages (from requests->torchvision==0.16.1->-r requirements.txt (line 7)) (2.2.3)\r\n",
      "Requirement already satisfied: certifi>=2017.4.17 in /opt/miniconda3/envs/introai/lib/python3.9/site-packages (from requests->torchvision==0.16.1->-r requirements.txt (line 7)) (2024.8.30)\r\n",
      "Requirement already satisfied: mpmath<1.4,>=1.1.0 in /opt/miniconda3/envs/introai/lib/python3.9/site-packages (from sympy->torch==2.1.1->-r requirements.txt (line 6)) (1.3.0)\r\n",
      "Requirement already satisfied: webencodings in /opt/miniconda3/envs/introai/lib/python3.9/site-packages (from bleach!=5.0.0->nbconvert->jupyter==1.0.0->-r requirements.txt (line 14)) (0.5.1)\r\n",
      "Requirement already satisfied: parso<0.9.0,>=0.8.3 in /opt/miniconda3/envs/introai/lib/python3.9/site-packages (from jedi>=0.16->ipython>=6.1.0->ipywidgets==8.1.1->-r requirements.txt (line 9)) (0.8.4)\r\n",
      "Requirement already satisfied: notebook-shim>=0.2.3 in /opt/miniconda3/envs/introai/lib/python3.9/site-packages (from nbclassic>=0.4.7->notebook->jupyter==1.0.0->-r requirements.txt (line 14)) (0.2.4)\r\n",
      "Requirement already satisfied: fastjsonschema>=2.15 in /opt/miniconda3/envs/introai/lib/python3.9/site-packages (from nbformat>=5.7->nbconvert->jupyter==1.0.0->-r requirements.txt (line 14)) (2.20.0)\r\n",
      "Requirement already satisfied: jsonschema>=2.6 in /opt/miniconda3/envs/introai/lib/python3.9/site-packages (from nbformat>=5.7->nbconvert->jupyter==1.0.0->-r requirements.txt (line 14)) (4.23.0)\r\n",
      "Requirement already satisfied: ptyprocess>=0.5 in /opt/miniconda3/envs/introai/lib/python3.9/site-packages (from pexpect>4.3->ipython>=6.1.0->ipywidgets==8.1.1->-r requirements.txt (line 9)) (0.7.0)\r\n",
      "Requirement already satisfied: wcwidth in /opt/miniconda3/envs/introai/lib/python3.9/site-packages (from prompt-toolkit<3.1.0,>=3.0.41->ipython>=6.1.0->ipywidgets==8.1.1->-r requirements.txt (line 9)) (0.2.13)\r\n",
      "Requirement already satisfied: argon2-cffi-bindings in /opt/miniconda3/envs/introai/lib/python3.9/site-packages (from argon2-cffi->notebook->jupyter==1.0.0->-r requirements.txt (line 14)) (21.2.0)\r\n",
      "Requirement already satisfied: soupsieve>1.2 in /opt/miniconda3/envs/introai/lib/python3.9/site-packages (from beautifulsoup4->nbconvert->jupyter==1.0.0->-r requirements.txt (line 14)) (2.5)\r\n",
      "Requirement already satisfied: executing>=1.2.0 in /opt/miniconda3/envs/introai/lib/python3.9/site-packages (from stack-data->ipython>=6.1.0->ipywidgets==8.1.1->-r requirements.txt (line 9)) (2.1.0)\r\n",
      "Requirement already satisfied: asttokens>=2.1.0 in /opt/miniconda3/envs/introai/lib/python3.9/site-packages (from stack-data->ipython>=6.1.0->ipywidgets==8.1.1->-r requirements.txt (line 9)) (2.4.1)\r\n",
      "Requirement already satisfied: pure-eval in /opt/miniconda3/envs/introai/lib/python3.9/site-packages (from stack-data->ipython>=6.1.0->ipywidgets==8.1.1->-r requirements.txt (line 9)) (0.2.3)\r\n",
      "Requirement already satisfied: attrs>=22.2.0 in /opt/miniconda3/envs/introai/lib/python3.9/site-packages (from jsonschema>=2.6->nbformat>=5.7->nbconvert->jupyter==1.0.0->-r requirements.txt (line 14)) (24.2.0)\r\n",
      "Requirement already satisfied: jsonschema-specifications>=2023.03.6 in /opt/miniconda3/envs/introai/lib/python3.9/site-packages (from jsonschema>=2.6->nbformat>=5.7->nbconvert->jupyter==1.0.0->-r requirements.txt (line 14)) (2023.12.1)\r\n",
      "Requirement already satisfied: referencing>=0.28.4 in /opt/miniconda3/envs/introai/lib/python3.9/site-packages (from jsonschema>=2.6->nbformat>=5.7->nbconvert->jupyter==1.0.0->-r requirements.txt (line 14)) (0.35.1)\r\n",
      "Requirement already satisfied: rpds-py>=0.7.1 in /opt/miniconda3/envs/introai/lib/python3.9/site-packages (from jsonschema>=2.6->nbformat>=5.7->nbconvert->jupyter==1.0.0->-r requirements.txt (line 14)) (0.20.0)\r\n",
      "Requirement already satisfied: jupyter-server<3,>=1.8 in /opt/miniconda3/envs/introai/lib/python3.9/site-packages (from notebook-shim>=0.2.3->nbclassic>=0.4.7->notebook->jupyter==1.0.0->-r requirements.txt (line 14)) (2.14.2)\r\n",
      "Requirement already satisfied: cffi>=1.0.1 in /opt/miniconda3/envs/introai/lib/python3.9/site-packages (from argon2-cffi-bindings->argon2-cffi->notebook->jupyter==1.0.0->-r requirements.txt (line 14)) (1.17.1)\r\n",
      "Requirement already satisfied: pycparser in /opt/miniconda3/envs/introai/lib/python3.9/site-packages (from cffi>=1.0.1->argon2-cffi-bindings->argon2-cffi->notebook->jupyter==1.0.0->-r requirements.txt (line 14)) (2.22)\r\n",
      "Requirement already satisfied: anyio>=3.1.0 in /opt/miniconda3/envs/introai/lib/python3.9/site-packages (from jupyter-server<3,>=1.8->notebook-shim>=0.2.3->nbclassic>=0.4.7->notebook->jupyter==1.0.0->-r requirements.txt (line 14)) (4.6.0)\r\n",
      "Requirement already satisfied: jupyter-events>=0.9.0 in /opt/miniconda3/envs/introai/lib/python3.9/site-packages (from jupyter-server<3,>=1.8->notebook-shim>=0.2.3->nbclassic>=0.4.7->notebook->jupyter==1.0.0->-r requirements.txt (line 14)) (0.10.0)\r\n",
      "Requirement already satisfied: jupyter-server-terminals>=0.4.4 in /opt/miniconda3/envs/introai/lib/python3.9/site-packages (from jupyter-server<3,>=1.8->notebook-shim>=0.2.3->nbclassic>=0.4.7->notebook->jupyter==1.0.0->-r requirements.txt (line 14)) (0.5.3)\r\n",
      "Requirement already satisfied: overrides>=5.0 in /opt/miniconda3/envs/introai/lib/python3.9/site-packages (from jupyter-server<3,>=1.8->notebook-shim>=0.2.3->nbclassic>=0.4.7->notebook->jupyter==1.0.0->-r requirements.txt (line 14)) (7.7.0)\r\n",
      "Requirement already satisfied: websocket-client>=1.7 in /opt/miniconda3/envs/introai/lib/python3.9/site-packages (from jupyter-server<3,>=1.8->notebook-shim>=0.2.3->nbclassic>=0.4.7->notebook->jupyter==1.0.0->-r requirements.txt (line 14)) (1.8.0)\r\n",
      "Requirement already satisfied: sniffio>=1.1 in /opt/miniconda3/envs/introai/lib/python3.9/site-packages (from anyio>=3.1.0->jupyter-server<3,>=1.8->notebook-shim>=0.2.3->nbclassic>=0.4.7->notebook->jupyter==1.0.0->-r requirements.txt (line 14)) (1.3.1)\r\n",
      "Requirement already satisfied: python-json-logger>=2.0.4 in /opt/miniconda3/envs/introai/lib/python3.9/site-packages (from jupyter-events>=0.9.0->jupyter-server<3,>=1.8->notebook-shim>=0.2.3->nbclassic>=0.4.7->notebook->jupyter==1.0.0->-r requirements.txt (line 14)) (2.0.7)\r\n",
      "Requirement already satisfied: rfc3339-validator in /opt/miniconda3/envs/introai/lib/python3.9/site-packages (from jupyter-events>=0.9.0->jupyter-server<3,>=1.8->notebook-shim>=0.2.3->nbclassic>=0.4.7->notebook->jupyter==1.0.0->-r requirements.txt (line 14)) (0.1.4)\r\n",
      "Requirement already satisfied: rfc3986-validator>=0.1.1 in /opt/miniconda3/envs/introai/lib/python3.9/site-packages (from jupyter-events>=0.9.0->jupyter-server<3,>=1.8->notebook-shim>=0.2.3->nbclassic>=0.4.7->notebook->jupyter==1.0.0->-r requirements.txt (line 14)) (0.1.1)\r\n",
      "Requirement already satisfied: fqdn in /opt/miniconda3/envs/introai/lib/python3.9/site-packages (from jsonschema[format-nongpl]>=4.18.0->jupyter-events>=0.9.0->jupyter-server<3,>=1.8->notebook-shim>=0.2.3->nbclassic>=0.4.7->notebook->jupyter==1.0.0->-r requirements.txt (line 14)) (1.5.1)\r\n",
      "Requirement already satisfied: isoduration in /opt/miniconda3/envs/introai/lib/python3.9/site-packages (from jsonschema[format-nongpl]>=4.18.0->jupyter-events>=0.9.0->jupyter-server<3,>=1.8->notebook-shim>=0.2.3->nbclassic>=0.4.7->notebook->jupyter==1.0.0->-r requirements.txt (line 14)) (20.11.0)\r\n",
      "Requirement already satisfied: jsonpointer>1.13 in /opt/miniconda3/envs/introai/lib/python3.9/site-packages (from jsonschema[format-nongpl]>=4.18.0->jupyter-events>=0.9.0->jupyter-server<3,>=1.8->notebook-shim>=0.2.3->nbclassic>=0.4.7->notebook->jupyter==1.0.0->-r requirements.txt (line 14)) (3.0.0)\r\n",
      "Requirement already satisfied: uri-template in /opt/miniconda3/envs/introai/lib/python3.9/site-packages (from jsonschema[format-nongpl]>=4.18.0->jupyter-events>=0.9.0->jupyter-server<3,>=1.8->notebook-shim>=0.2.3->nbclassic>=0.4.7->notebook->jupyter==1.0.0->-r requirements.txt (line 14)) (1.3.0)\r\n",
      "Requirement already satisfied: webcolors>=24.6.0 in /opt/miniconda3/envs/introai/lib/python3.9/site-packages (from jsonschema[format-nongpl]>=4.18.0->jupyter-events>=0.9.0->jupyter-server<3,>=1.8->notebook-shim>=0.2.3->nbclassic>=0.4.7->notebook->jupyter==1.0.0->-r requirements.txt (line 14)) (24.8.0)\r\n",
      "Requirement already satisfied: arrow>=0.15.0 in /opt/miniconda3/envs/introai/lib/python3.9/site-packages (from isoduration->jsonschema[format-nongpl]>=4.18.0->jupyter-events>=0.9.0->jupyter-server<3,>=1.8->notebook-shim>=0.2.3->nbclassic>=0.4.7->notebook->jupyter==1.0.0->-r requirements.txt (line 14)) (1.3.0)\r\n",
      "Requirement already satisfied: types-python-dateutil>=2.8.10 in /opt/miniconda3/envs/introai/lib/python3.9/site-packages (from arrow>=0.15.0->isoduration->jsonschema[format-nongpl]>=4.18.0->jupyter-events>=0.9.0->jupyter-server<3,>=1.8->notebook-shim>=0.2.3->nbclassic>=0.4.7->notebook->jupyter==1.0.0->-r requirements.txt (line 14)) (2.9.0.20240906)\r\n",
      "Downloading opencv_python_headless-4.8.1.78-cp37-abi3-macosx_11_0_arm64.whl (33.1 MB)\r\n",
      "\u001B[2K   \u001B[90m━━━━━━━━━━━━━━━━━━━━━━━━━━━━━━━━━━━━━━━━\u001B[0m \u001B[32m33.1/33.1 MB\u001B[0m \u001B[31m2.0 MB/s\u001B[0m eta \u001B[36m0:00:00\u001B[0m00:01\u001B[0m00:01\u001B[0m\r\n",
      "\u001B[?25hDownloading matplotlib-3.8.2-cp39-cp39-macosx_11_0_arm64.whl (7.5 MB)\r\n",
      "\u001B[2K   \u001B[90m━━━━━━━━━━━━━━━━━━━━━━━━━━━━━━━━━━━━━━━━\u001B[0m \u001B[32m7.5/7.5 MB\u001B[0m \u001B[31m1.6 MB/s\u001B[0m eta \u001B[36m0:00:00\u001B[0ma \u001B[36m0:00:01\u001B[0m\r\n",
      "\u001B[?25hDownloading numpy-1.26.2-cp39-cp39-macosx_11_0_arm64.whl (14.0 MB)\r\n",
      "\u001B[2K   \u001B[90m━━━━━━━━━━━━━━━━━━━━━━━━━━━━━━━━━━━━━━━━\u001B[0m \u001B[32m14.0/14.0 MB\u001B[0m \u001B[31m950.2 kB/s\u001B[0m eta \u001B[36m0:00:00\u001B[0m00:01\u001B[0m00:01\u001B[0m\r\n",
      "\u001B[?25hDownloading Pillow-10.1.0-cp39-cp39-macosx_11_0_arm64.whl (3.3 MB)\r\n",
      "\u001B[2K   \u001B[90m━━━━━━━━━━━━━━━━━━━━━━━━━━━━━━━━━━━━━━━━\u001B[0m \u001B[32m3.3/3.3 MB\u001B[0m \u001B[31m1.1 MB/s\u001B[0m eta \u001B[36m0:00:00\u001B[0ma \u001B[36m0:00:01\u001B[0m\r\n",
      "\u001B[?25hDownloading bokeh-3.3.2-py3-none-any.whl (6.8 MB)\r\n",
      "\u001B[2K   \u001B[90m━━━━━━━━━━━━━━━━━━━━━━━━━━━━━━━━━━━━━━━━\u001B[0m \u001B[32m6.8/6.8 MB\u001B[0m \u001B[31m856.3 kB/s\u001B[0m eta \u001B[36m0:00:00\u001B[0ma \u001B[36m0:00:01\u001B[0m\r\n",
      "\u001B[?25hDownloading torch-2.1.1-cp39-none-macosx_11_0_arm64.whl (59.6 MB)\r\n",
      "\u001B[2K   \u001B[90m━━━━━━━━━━━━━━━━━━━━━━━━━━━━━━━━━━━━━━━━\u001B[0m \u001B[32m59.6/59.6 MB\u001B[0m \u001B[31m905.8 kB/s\u001B[0m eta \u001B[36m0:00:00\u001B[0m00:01\u001B[0m00:02\u001B[0m\r\n",
      "\u001B[?25hDownloading torchvision-0.16.1-cp39-cp39-macosx_11_0_arm64.whl (1.5 MB)\r\n",
      "\u001B[2K   \u001B[90m━━━━━━━━━━━━━━━━━━━━━━━━━━━━━━━━━━━━━━━━\u001B[0m \u001B[32m1.5/1.5 MB\u001B[0m \u001B[31m2.3 MB/s\u001B[0m eta \u001B[36m0:00:00\u001B[0ma \u001B[36m0:00:01\u001B[0m\r\n",
      "\u001B[?25hDownloading tqdm-4.66.1-py3-none-any.whl (78 kB)\r\n",
      "Downloading ipywidgets-8.1.1-py3-none-any.whl (139 kB)\r\n",
      "Downloading livelossplot-0.5.5-py3-none-any.whl (22 kB)\r\n",
      "Downloading pytest-7.4.3-py3-none-any.whl (325 kB)\r\n",
      "Downloading pandas-2.1.3-cp39-cp39-macosx_11_0_arm64.whl (11.0 MB)\r\n",
      "\u001B[2K   \u001B[90m━━━━━━━━━━━━━━━━━━━━━━━━━━━━━━━━━━━━━━━━\u001B[0m \u001B[32m11.0/11.0 MB\u001B[0m \u001B[31m1.3 MB/s\u001B[0m eta \u001B[36m0:00:00\u001B[0ma \u001B[36m0:00:01\u001B[0m\r\n",
      "\u001B[?25hDownloading seaborn-0.13.0-py3-none-any.whl (294 kB)\r\n",
      "Downloading ipykernel-6.27.1-py3-none-any.whl (114 kB)\r\n",
      "Using cached widgetsnbextension-4.0.13-py3-none-any.whl (2.3 MB)\r\n",
      "Downloading xyzservices-2024.9.0-py3-none-any.whl (85 kB)\r\n",
      "Installing collected packages: xyzservices, widgetsnbextension, tqdm, pytest, pillow, numpy, torch, pandas, opencv-python-headless, torchvision, matplotlib, bokeh, seaborn, livelossplot, ipywidgets, ipykernel\r\n",
      "  Attempting uninstall: widgetsnbextension\r\n",
      "    Found existing installation: widgetsnbextension 3.6.9\r\n",
      "    Uninstalling widgetsnbextension-3.6.9:\r\n",
      "      Successfully uninstalled widgetsnbextension-3.6.9\r\n",
      "  Attempting uninstall: tqdm\r\n",
      "    Found existing installation: tqdm 4.63.0\r\n",
      "    Uninstalling tqdm-4.63.0:\r\n",
      "      Successfully uninstalled tqdm-4.63.0\r\n",
      "  Attempting uninstall: pytest\r\n",
      "    Found existing installation: pytest 7.1.1\r\n",
      "    Uninstalling pytest-7.1.1:\r\n",
      "      Successfully uninstalled pytest-7.1.1\r\n",
      "  Attempting uninstall: pillow\r\n",
      "    Found existing installation: Pillow 7.0.0\r\n",
      "    Uninstalling Pillow-7.0.0:\r\n",
      "      Successfully uninstalled Pillow-7.0.0\r\n",
      "  Attempting uninstall: numpy\r\n",
      "    Found existing installation: numpy 1.21.2\r\n",
      "    Uninstalling numpy-1.21.2:\r\n",
      "      Successfully uninstalled numpy-1.21.2\r\n",
      "  Attempting uninstall: torch\r\n",
      "    Found existing installation: torch 1.11.0\r\n",
      "    Uninstalling torch-1.11.0:\r\n",
      "      Successfully uninstalled torch-1.11.0\r\n",
      "  Attempting uninstall: pandas\r\n",
      "    Found existing installation: pandas 1.3.5\r\n",
      "    Uninstalling pandas-1.3.5:\r\n",
      "      Successfully uninstalled pandas-1.3.5\r\n",
      "  Attempting uninstall: opencv-python-headless\r\n",
      "    Found existing installation: opencv-python-headless 4.5.3.56\r\n",
      "    Uninstalling opencv-python-headless-4.5.3.56:\r\n",
      "      Successfully uninstalled opencv-python-headless-4.5.3.56\r\n",
      "  Attempting uninstall: torchvision\r\n",
      "    Found existing installation: torchvision 0.12.0\r\n",
      "    Uninstalling torchvision-0.12.0:\r\n",
      "      Successfully uninstalled torchvision-0.12.0\r\n",
      "  Attempting uninstall: matplotlib\r\n",
      "    Found existing installation: matplotlib 3.4.3\r\n",
      "    Uninstalling matplotlib-3.4.3:\r\n",
      "      Successfully uninstalled matplotlib-3.4.3\r\n",
      "  Attempting uninstall: bokeh\r\n",
      "    Found existing installation: bokeh 2.1.1\r\n",
      "    Uninstalling bokeh-2.1.1:\r\n",
      "      Successfully uninstalled bokeh-2.1.1\r\n",
      "  Attempting uninstall: seaborn\r\n",
      "    Found existing installation: seaborn 0.11.2\r\n",
      "    Uninstalling seaborn-0.11.2:\r\n",
      "      Successfully uninstalled seaborn-0.11.2\r\n",
      "  Attempting uninstall: livelossplot\r\n",
      "    Found existing installation: livelossplot 0.5.4\r\n",
      "    Uninstalling livelossplot-0.5.4:\r\n",
      "      Successfully uninstalled livelossplot-0.5.4\r\n",
      "  Attempting uninstall: ipywidgets\r\n",
      "    Found existing installation: ipywidgets 7.7.0\r\n",
      "    Uninstalling ipywidgets-7.7.0:\r\n",
      "      Successfully uninstalled ipywidgets-7.7.0\r\n",
      "  Attempting uninstall: ipykernel\r\n",
      "    Found existing installation: ipykernel 4.10.0\r\n",
      "    Uninstalling ipykernel-4.10.0:\r\n",
      "      Successfully uninstalled ipykernel-4.10.0\r\n",
      "Successfully installed bokeh-3.3.2 ipykernel-6.27.1 ipywidgets-8.1.1 livelossplot-0.5.5 matplotlib-3.8.2 numpy-1.26.2 opencv-python-headless-4.8.1.78 pandas-2.1.3 pillow-10.1.0 pytest-7.4.3 seaborn-0.13.0 torch-2.1.1 torchvision-0.16.1 tqdm-4.66.1 widgetsnbextension-4.0.13 xyzservices-2024.9.0\r\n"
     ]
    }
   ],
   "execution_count": 1
  },
  {
   "cell_type": "markdown",
   "metadata": {},
   "source": [
    "## Imports"
   ]
  },
  {
   "cell_type": "code",
   "metadata": {
    "ExecuteTime": {
     "end_time": "2024-10-19T07:09:30.146735Z",
     "start_time": "2024-10-19T07:09:16.361717Z"
    }
   },
   "source": [
    "## This cell contains the essential imports you will need – DO NOT CHANGE THE CONTENTS! ##\n",
    "import torch\n",
    "import torch.nn as nn\n",
    "import torch.nn.functional as F\n",
    "import torch.optim as optim\n",
    "import torchvision\n",
    "import torchvision.transforms as transforms\n",
    "import matplotlib.pyplot as plt\n",
    "import numpy as np"
   ],
   "outputs": [],
   "execution_count": 2
  },
  {
   "metadata": {
    "ExecuteTime": {
     "end_time": "2024-10-19T07:23:40.112633Z",
     "start_time": "2024-10-19T07:23:40.108413Z"
    }
   },
   "cell_type": "code",
   "source": "%matplotlib inline",
   "outputs": [],
   "execution_count": 12
  },
  {
   "cell_type": "markdown",
   "metadata": {},
   "source": [
    "## Load the Dataset\n",
    "\n",
    "Specify your transforms as a list if you intend to .\n",
    "The transforms module is already loaded as `transforms`.\n",
    "\n",
    "MNIST is fortunately included in the torchvision module.\n",
    "Then, you can create your dataset using the `MNIST` object from `torchvision.datasets` ([the documentation is available here](https://pytorch.org/vision/stable/datasets.html#mnist)).\n",
    "Make sure to specify `download=True`! \n",
    "\n",
    "Once your dataset is created, you'll also need to define a `DataLoader` from the `torch.utils.data` module for both the train and the test set."
   ]
  },
  {
   "cell_type": "code",
   "metadata": {
    "ExecuteTime": {
     "end_time": "2024-10-19T07:09:43.249509Z",
     "start_time": "2024-10-19T07:09:43.231584Z"
    }
   },
   "source": [
    "# Define transforms\n",
    "transform = transforms.Compose([\n",
    "    transforms.ToTensor(),\n",
    "    transforms.Normalize((0.1307,), (0.3081,))\n",
    "])\n",
    "\n",
    "# Create training set and define training dataloader\n",
    "train_dataset = torchvision.datasets.MNIST(root='./data', train=True, download=True, transform=transform)\n",
    "train_loader = torch.utils.data.DataLoader(train_dataset, batch_size=64, shuffle=True)\n",
    "\n",
    "# Create test set and define test dataloader\n",
    "test_dataset = torchvision.datasets.MNIST(root='./data', train=False, download=True, transform=transform)\n",
    "test_loader = torch.utils.data.DataLoader(test_dataset, batch_size=1000, shuffle=False)"
   ],
   "outputs": [],
   "execution_count": 4
  },
  {
   "cell_type": "markdown",
   "metadata": {},
   "source": [
    "## Justify your preprocessing\n",
    "\n",
    "In your own words, why did you choose the transforms you chose? If you didn't use any preprocessing steps, why not?"
   ]
  },
  {
   "cell_type": "markdown",
   "metadata": {},
   "source": [
    "**DOUBLE CLICK THIS CELL TO MODIFY**"
   ]
  },
  {
   "cell_type": "markdown",
   "metadata": {},
   "source": [
    "## Explore the Dataset\n",
    "Using matplotlib, numpy, and torch, explore the dimensions of your data.\n",
    "\n",
    "You can view images using the `show5` function defined below – it takes a data loader as an argument.\n",
    "Remember that normalized images will look really weird to you! You may want to try changing your transforms to view images.\n",
    "Typically using no transforms other than `toTensor()` works well for viewing – but not as well for training your network.\n",
    "If `show5` doesn't work, go back and check your code for creating your data loaders and your training/test sets."
   ]
  },
  {
   "cell_type": "code",
   "metadata": {
    "ExecuteTime": {
     "end_time": "2024-10-19T07:09:47.549511Z",
     "start_time": "2024-10-19T07:09:47.547041Z"
    }
   },
   "source": [
    "## This cell contains a function for showing 5 images from a dataloader – DO NOT CHANGE THE CONTENTS! ##\n",
    "def show5(img_loader):\n",
    "    dataiter = iter(img_loader)\n",
    "    \n",
    "    batch = next(dataiter)\n",
    "    labels = batch[1][0:5]\n",
    "    images = batch[0][0:5]\n",
    "    for i in range(5):\n",
    "        print(int(labels[i].detach()))\n",
    "    \n",
    "        image = images[i].numpy()\n",
    "        plt.imshow(image.T.squeeze().T)\n",
    "        plt.show()"
   ],
   "outputs": [],
   "execution_count": 5
  },
  {
   "cell_type": "code",
   "metadata": {
    "ExecuteTime": {
     "end_time": "2024-10-19T07:24:00.644322Z",
     "start_time": "2024-10-19T07:24:00.138427Z"
    }
   },
   "source": [
    "# Explore data\n",
    "print(f\"Train dataset size: {len(train_dataset)}\")\n",
    "print(f\"Test dataset size: {len(test_dataset)}\")\n",
    "\n",
    "# Get a sample batch\n",
    "sample_batch = next(iter(train_loader))\n",
    "print(f\"Batch shape: {sample_batch[0].shape}\")\n",
    "print(f\"Label shape: {sample_batch[1].shape}\")\n",
    "\n",
    "# Visualize 5 images\n",
    "show5(train_loader)\n",
    "\n",
    "# Create a dataloader without normalization for better visualization\n",
    "transform_viz = transforms.Compose([transforms.ToTensor()])\n",
    "viz_dataset = torchvision.datasets.MNIST(root='./data', train=True, download=True, transform=transform_viz)\n",
    "viz_loader = torch.utils.data.DataLoader(viz_dataset, batch_size=64, shuffle=True)\n",
    "\n",
    "print(\"\\nVisualization without normalization:\")\n",
    "show5(viz_loader)"
   ],
   "outputs": [
    {
     "name": "stdout",
     "output_type": "stream",
     "text": [
      "Train dataset size: 60000\n",
      "Test dataset size: 10000\n",
      "Batch shape: torch.Size([64, 1, 28, 28])\n",
      "Label shape: torch.Size([64])\n",
      "3\n"
     ]
    },
    {
     "data": {
      "text/plain": [
       "<Figure size 640x480 with 1 Axes>"
      ],
      "image/png": "[encoded data removed]"
     },
     "metadata": {},
     "output_type": "display_data"
    },
    {
     "name": "stdout",
     "output_type": "stream",
     "text": [
      "6\n"
     ]
    },
    {
     "data": {
      "text/plain": [
       "<Figure size 640x480 with 1 Axes>"
      ],
      "image/png": "[encoded data removed]"
     },
     "metadata": {},
     "output_type": "display_data"
    },
    {
     "name": "stdout",
     "output_type": "stream",
     "text": [
      "1\n"
     ]
    },
    {
     "data": {
      "text/plain": [
       "<Figure size 640x480 with 1 Axes>"
      ],
      "image/png": "[encoded data removed]"
     },
     "metadata": {},
     "output_type": "display_data"
    },
    {
     "name": "stdout",
     "output_type": "stream",
     "text": [
      "7\n"
     ]
    },
    {
     "data": {
      "text/plain": [
       "<Figure size 640x480 with 1 Axes>"
      ],
      "image/png": "[encoded data removed]"
     },
     "metadata": {},
     "output_type": "display_data"
    },
    {
     "name": "stdout",
     "output_type": "stream",
     "text": [
      "2\n"
     ]
    },
    {
     "data": {
      "text/plain": [
       "<Figure size 640x480 with 1 Axes>"
      ],
      "image/png": "[encoded data removed]"
     },
     "metadata": {},
     "output_type": "display_data"
    },
    {
     "name": "stdout",
     "output_type": "stream",
     "text": [
      "\n",
      "Visualization without normalization:\n",
      "8\n"
     ]
    },
    {
     "data": {
      "text/plain": [
       "<Figure size 640x480 with 1 Axes>"
      ],
      "image/png": "[encoded data removed]"
     },
     "metadata": {},
     "output_type": "display_data"
    },
    {
     "name": "stdout",
     "output_type": "stream",
     "text": [
      "6\n"
     ]
    },
    {
     "data": {
      "text/plain": [
       "<Figure size 640x480 with 1 Axes>"
      ],
      "image/png": "[encoded data removed]"
     },
     "metadata": {},
     "output_type": "display_data"
    },
    {
     "name": "stdout",
     "output_type": "stream",
     "text": [
      "8\n"
     ]
    },
    {
     "data": {
      "text/plain": [
       "<Figure size 640x480 with 1 Axes>"
      ],
      "image/png": "[encoded data removed]"
     },
     "metadata": {},
     "output_type": "display_data"
    },
    {
     "name": "stdout",
     "output_type": "stream",
     "text": [
      "7\n"
     ]
    },
    {
     "data": {
      "text/plain": [
       "<Figure size 640x480 with 1 Axes>"
      ],
      "image/png": "[encoded data removed]"
     },
     "metadata": {},
     "output_type": "display_data"
    },
    {
     "name": "stdout",
     "output_type": "stream",
     "text": [
      "1\n"
     ]
    },
    {
     "data": {
      "text/plain": [
       "<Figure size 640x480 with 1 Axes>"
      ],
      "image/png": "[encoded data removed]"
     },
     "metadata": {},
     "output_type": "display_data"
    }
   ],
   "execution_count": 14
  },
  {
   "cell_type": "markdown",
   "metadata": {},
   "source": [
    "## Build your Neural Network\n",
    "Using the layers in `torch.nn` (which has been imported as `nn`) and the `torch.nn.functional` module (imported as `F`), construct a neural network based on the parameters of the dataset.\n",
    "Use any architecture you like. \n",
    "\n",
    "*Note*: If you did not flatten your tensors in your transforms or as part of your preprocessing and you are using only `Linear` layers, make sure to use the `Flatten` layer in your network!"
   ]
  },
  {
   "cell_type": "code",
   "metadata": {
    "ExecuteTime": {
     "end_time": "2024-10-19T07:10:05.904079Z",
     "start_time": "2024-10-19T07:10:05.894035Z"
    }
   },
   "source": [
    "class Net(nn.Module):\n",
    "    def __init__(self):\n",
    "        super(Net, self).__init__()\n",
    "        self.conv1 = nn.Conv2d(1, 32, 3, 1)\n",
    "        self.conv2 = nn.Conv2d(32, 64, 3, 1)\n",
    "        self.dropout1 = nn.Dropout2d(0.25)\n",
    "        self.dropout2 = nn.Dropout2d(0.5)\n",
    "        self.fc1 = nn.Linear(9216, 128)\n",
    "        self.fc2 = nn.Linear(128, 10)\n",
    "\n",
    "    def forward(self, x):\n",
    "        x = self.conv1(x)\n",
    "        x = F.relu(x)\n",
    "        x = self.conv2(x)\n",
    "        x = F.relu(x)\n",
    "        x = F.max_pool2d(x, 2)\n",
    "        x = self.dropout1(x)\n",
    "        x = torch.flatten(x, 1)\n",
    "        x = self.fc1(x)\n",
    "        x = F.relu(x)\n",
    "        x = self.dropout2(x)\n",
    "        x = self.fc2(x)\n",
    "        output = F.log_softmax(x, dim=1)\n",
    "        return output\n",
    "\n",
    "# Instantiate the model\n",
    "model = Net()"
   ],
   "outputs": [],
   "execution_count": 7
  },
  {
   "cell_type": "markdown",
   "metadata": {},
   "source": [
    "Specify a loss function and an optimizer, and instantiate the model.\n",
    "\n",
    "If you use a less common loss function, please note why you chose that loss function in a comment."
   ]
  },
  {
   "cell_type": "code",
   "metadata": {
    "ExecuteTime": {
     "end_time": "2024-10-19T07:10:10.324508Z",
     "start_time": "2024-10-19T07:10:10.322251Z"
    }
   },
   "source": [
    "## YOUR CODE HERE ##\n",
    "# Loss function\n",
    "criterion = nn.CrossEntropyLoss()\n",
    "\n",
    "# Optimizer\n",
    "optimizer = optim.Adam(model.parameters(), lr=0.001)\n",
    "\n",
    "# other examples for personal note \n",
    "# optimizer = optim.SGD(model.parameters(), lr=0.01, momentum=0.9)\n",
    "# optimizer = optim.RMSprop(model.parameters(), lr=0.001)"
   ],
   "outputs": [],
   "execution_count": 8
  },
  {
   "cell_type": "markdown",
   "metadata": {},
   "source": [
    "## Running your Neural Network\n",
    "Use whatever method you like to train your neural network, and ensure you record the average loss at each epoch. \n",
    "Don't forget to use `torch.device()` and the `.to()` method for both your model and your data if you are using GPU!\n",
    "\n",
    "If you want to print your loss **during** each epoch, you can use the `enumerate` function and print the loss after a set number of batches. 250 batches works well for most people!"
   ]
  },
  {
   "cell_type": "code",
   "metadata": {
    "ExecuteTime": {
     "end_time": "2024-10-19T07:11:37.241767Z",
     "start_time": "2024-10-19T07:10:13.760445Z"
    }
   },
   "source": [
    "## YOUR CODE HERE ##\n",
    "import torch\n",
    "\n",
    "# I have Apple M2 Machine so this is what we check first, but, this should work with CUDA as well\n",
    "if torch.backends.mps.is_available():\n",
    "    device = torch.device(\"mps\")\n",
    "elif torch.cuda.is_available():\n",
    "    device = torch.device(\"cuda\")\n",
    "else:\n",
    "    device = torch.device(\"cpu\")\n",
    "print(f\"Using device: {device}\")\n",
    "\n",
    "# Move model to device\n",
    "model = model.to(device)\n",
    "\n",
    "# Training parameters\n",
    "num_epochs = 10\n",
    "batch_size = 64\n",
    "log_interval = 250\n",
    "\n",
    "# Lists to store metrics\n",
    "train_losses = []\n",
    "train_counter = []\n",
    "\n",
    "def train(epoch):\n",
    "    model.train()\n",
    "    total_loss = 0\n",
    "    for batch_idx, (data, target) in enumerate(train_loader):\n",
    "        data, target = data.to(device), target.to(device)\n",
    "        optimizer.zero_grad()\n",
    "        output = model(data)\n",
    "        loss = criterion(output, target)\n",
    "        loss.backward()\n",
    "        optimizer.step()\n",
    "        total_loss += loss.item()\n",
    "        \n",
    "        if batch_idx % log_interval == 0:\n",
    "            print(f'Train Epoch: {epoch} [{batch_idx * len(data)}/{len(train_loader.dataset)} '\n",
    "                  f'({100. * batch_idx / len(train_loader):.0f}%)]\\tLoss: {loss.item():.6f}')\n",
    "            train_losses.append(loss.item())\n",
    "            train_counter.append((batch_idx * batch_size) + ((epoch - 1) * len(train_loader.dataset)))\n",
    "    \n",
    "    avg_loss = total_loss / len(train_loader)\n",
    "    print(f'Epoch {epoch} complete. Average loss: {avg_loss:.6f}')\n",
    "    return avg_loss\n",
    "\n",
    "# Training loop\n",
    "epoch_losses = []\n",
    "for epoch in range(1, num_epochs + 1):\n",
    "    avg_loss = train(epoch)\n",
    "    epoch_losses.append(avg_loss)\n",
    "\n",
    "# Plot training loss\n",
    "plt.figure()\n",
    "plt.plot(range(1, num_epochs + 1), epoch_losses)\n",
    "plt.xlabel('Epoch')\n",
    "plt.ylabel('Average Loss')\n",
    "plt.title('Training Loss per Epoch')\n",
    "plt.show()\n",
    "\n",
    "# Plot detailed training loss\n",
    "plt.figure()\n",
    "plt.plot(train_counter, train_losses)\n",
    "plt.xlabel('Number of training examples seen')\n",
    "plt.ylabel('Negative log likelihood loss')\n",
    "plt.title('Detailed Training Loss')\n",
    "plt.show()"
   ],
   "outputs": [
    {
     "name": "stdout",
     "output_type": "stream",
     "text": [
      "Using device: mps\n"
     ]
    },
    {
     "name": "stderr",
     "output_type": "stream",
     "text": [
      "/opt/miniconda3/envs/introai/lib/python3.9/site-packages/torch/nn/functional.py:1345: UserWarning: dropout2d: Received a 2-D input to dropout2d, which is deprecated and will result in an error in a future release. To retain the behavior and silence this warning, please use dropout instead. Note that dropout2d exists to provide channel-wise dropout on inputs with 2 spatial dimensions, a channel dimension, and an optional batch dimension (i.e. 3D or 4D inputs).\n",
      "  warnings.warn(warn_msg)\n"
     ]
    },
    {
     "name": "stdout",
     "output_type": "stream",
     "text": [
      "Train Epoch: 1 [0/60000 (0%)]\tLoss: 2.292096\n",
      "Train Epoch: 1 [16000/60000 (27%)]\tLoss: 0.174245\n",
      "Train Epoch: 1 [32000/60000 (53%)]\tLoss: 0.216021\n",
      "Train Epoch: 1 [48000/60000 (80%)]\tLoss: 0.154971\n",
      "Epoch 1 complete. Average loss: 0.201215\n",
      "Train Epoch: 2 [0/60000 (0%)]\tLoss: 0.042317\n",
      "Train Epoch: 2 [16000/60000 (27%)]\tLoss: 0.018923\n",
      "Train Epoch: 2 [32000/60000 (53%)]\tLoss: 0.066636\n",
      "Train Epoch: 2 [48000/60000 (80%)]\tLoss: 0.076121\n",
      "Epoch 2 complete. Average loss: 0.088330\n",
      "Train Epoch: 3 [0/60000 (0%)]\tLoss: 0.062720\n",
      "Train Epoch: 3 [16000/60000 (27%)]\tLoss: 0.073133\n",
      "Train Epoch: 3 [32000/60000 (53%)]\tLoss: 0.112018\n",
      "Train Epoch: 3 [48000/60000 (80%)]\tLoss: 0.100389\n",
      "Epoch 3 complete. Average loss: 0.069144\n",
      "Train Epoch: 4 [0/60000 (0%)]\tLoss: 0.049003\n",
      "Train Epoch: 4 [16000/60000 (27%)]\tLoss: 0.041378\n",
      "Train Epoch: 4 [32000/60000 (53%)]\tLoss: 0.137817\n",
      "Train Epoch: 4 [48000/60000 (80%)]\tLoss: 0.080337\n",
      "Epoch 4 complete. Average loss: 0.057481\n",
      "Train Epoch: 5 [0/60000 (0%)]\tLoss: 0.004930\n",
      "Train Epoch: 5 [16000/60000 (27%)]\tLoss: 0.018555\n",
      "Train Epoch: 5 [32000/60000 (53%)]\tLoss: 0.016580\n",
      "Train Epoch: 5 [48000/60000 (80%)]\tLoss: 0.039150\n",
      "Epoch 5 complete. Average loss: 0.049842\n",
      "Train Epoch: 6 [0/60000 (0%)]\tLoss: 0.009071\n",
      "Train Epoch: 6 [16000/60000 (27%)]\tLoss: 0.093128\n",
      "Train Epoch: 6 [32000/60000 (53%)]\tLoss: 0.048851\n",
      "Train Epoch: 6 [48000/60000 (80%)]\tLoss: 0.089694\n",
      "Epoch 6 complete. Average loss: 0.043663\n",
      "Train Epoch: 7 [0/60000 (0%)]\tLoss: 0.016906\n",
      "Train Epoch: 7 [16000/60000 (27%)]\tLoss: 0.000602\n",
      "Train Epoch: 7 [32000/60000 (53%)]\tLoss: 0.121783\n",
      "Train Epoch: 7 [48000/60000 (80%)]\tLoss: 0.099174\n",
      "Epoch 7 complete. Average loss: 0.038425\n",
      "Train Epoch: 8 [0/60000 (0%)]\tLoss: 0.029464\n",
      "Train Epoch: 8 [16000/60000 (27%)]\tLoss: 0.025907\n",
      "Train Epoch: 8 [32000/60000 (53%)]\tLoss: 0.007393\n",
      "Train Epoch: 8 [48000/60000 (80%)]\tLoss: 0.059635\n",
      "Epoch 8 complete. Average loss: 0.037082\n",
      "Train Epoch: 9 [0/60000 (0%)]\tLoss: 0.005998\n",
      "Train Epoch: 9 [16000/60000 (27%)]\tLoss: 0.011767\n",
      "Train Epoch: 9 [32000/60000 (53%)]\tLoss: 0.036239\n",
      "Train Epoch: 9 [48000/60000 (80%)]\tLoss: 0.015636\n",
      "Epoch 9 complete. Average loss: 0.032124\n",
      "Train Epoch: 10 [0/60000 (0%)]\tLoss: 0.089013\n",
      "Train Epoch: 10 [16000/60000 (27%)]\tLoss: 0.003034\n",
      "Train Epoch: 10 [32000/60000 (53%)]\tLoss: 0.062705\n",
      "Train Epoch: 10 [48000/60000 (80%)]\tLoss: 0.118488\n",
      "Epoch 10 complete. Average loss: 0.028988\n"
     ]
    },
    {
     "data": {
      "text/plain": [
       "<Figure size 640x480 with 1 Axes>"
      ]
     },
     "metadata": {},
     "output_type": "display_data"
    },
    {
     "data": {
      "text/plain": [
       "<Figure size 640x480 with 1 Axes>"
      ]
     },
     "metadata": {},
     "output_type": "display_data"
    }
   ],
   "execution_count": 9
  },
  {
   "cell_type": "markdown",
   "metadata": {},
   "source": [
    "Plot the training loss (and validation loss/accuracy, if recorded)."
   ]
  },
  {
   "cell_type": "code",
   "metadata": {
    "ExecuteTime": {
     "end_time": "2024-10-19T07:23:50.752604Z",
     "start_time": "2024-10-19T07:23:50.614944Z"
    }
   },
   "source": [
    "import matplotlib.pyplot as plt\n",
    "\n",
    "# Extract average losses per epoch from the output\n",
    "epoch_losses = [0.201215, 0.088330, 0.069144, 0.057481, 0.049842, 0.043663, 0.038425, 0.037082, 0.032124, 0.028988]\n",
    "\n",
    "# Create the plot\n",
    "plt.figure(figsize=(12, 6))\n",
    "plt.plot(range(1, 11), epoch_losses, marker='o')\n",
    "plt.title('Training Loss over Epochs')\n",
    "plt.xlabel('Epoch')\n",
    "plt.ylabel('Average Loss')\n",
    "plt.grid(True)\n",
    "plt.xticks(range(1, 11))\n",
    "\n",
    "# Add data labels\n",
    "for i, loss in enumerate(epoch_losses):\n",
    "    plt.annotate(f'{loss:.6f}', (i + 1, loss), textcoords=\"offset points\", xytext=(0,10), ha='center')\n",
    "\n",
    "plt.tight_layout()\n",
    "plt.show()"
   ],
   "outputs": [
    {
     "data": {
      "text/plain": [
       "<Figure size 1200x600 with 1 Axes>"
      ],
      "image/png": "[encoded data removed]"
     },
     "metadata": {},
     "output_type": "display_data"
    }
   ],
   "execution_count": 13
  },
  {
   "cell_type": "markdown",
   "metadata": {},
   "source": [
    "## Testing your model\n",
    "Using the previously created `DataLoader` for the test set, compute the percentage of correct predictions using the highest probability prediction. \n",
    "\n",
    "If your accuracy is over 90%, great work, but see if you can push a bit further! \n",
    "If your accuracy is under 90%, you'll need to make improvements.\n",
    "Go back and check your model architecture, loss function, and optimizer to make sure they're appropriate for an image classification task."
   ]
  },
  {
   "cell_type": "code",
   "metadata": {
    "ExecuteTime": {
     "end_time": "2024-10-19T07:25:07.017298Z",
     "start_time": "2024-10-19T07:25:06.322747Z"
    }
   },
   "source": [
    "## YOUR CODE HERE ##\n",
    "import torch\n",
    "\n",
    "def test_model(model, test_loader, device):\n",
    "    model.eval()  # Set the model to evaluation mode\n",
    "    correct = 0\n",
    "    total = 0\n",
    "    \n",
    "    with torch.no_grad():  # Disable gradient computation\n",
    "        for data, target in test_loader:\n",
    "            data, target = data.to(device), target.to(device)\n",
    "            output = model(data)\n",
    "            _, predicted = torch.max(output.data, 1)\n",
    "            total += target.size(0)\n",
    "            correct += (predicted == target).sum().item()\n",
    "    \n",
    "    accuracy = 100 * correct / total\n",
    "    return accuracy\n",
    "\n",
    "# Assuming you have already defined test_loader and model\n",
    "device = torch.device(\"mps\" if torch.backends.mps.is_available() else \"cpu\")\n",
    "model = model.to(device)\n",
    "\n",
    "# Run the test\n",
    "test_accuracy = test_model(model, test_loader, device)\n",
    "\n",
    "print(f'Accuracy on the test set: {test_accuracy:.2f}%')\n",
    "\n",
    "if test_accuracy > 90:\n",
    "    print(\"Great work! Your model is performing well.\")\n",
    "    print(\"Can you push it further? Try adjusting hyperparameters or adding more layers.\")\n",
    "else:\n",
    "    print(\"Your model's accuracy is below 90%.\")\n",
    "    print(\"Consider reviewing your model architecture, loss function, and optimizer.\")\n",
    "    print(\"You might also try training for more epochs or adjusting the learning rate.\")"
   ],
   "outputs": [
    {
     "name": "stdout",
     "output_type": "stream",
     "text": [
      "Accuracy on the test set: 99.00%\n",
      "Great work! Your model is performing well.\n",
      "Can you push it further? Try adjusting hyperparameters or adding more layers.\n"
     ]
    }
   ],
   "execution_count": 15
  },
  {
   "cell_type": "markdown",
   "metadata": {},
   "source": [
    "## Improving your model\n",
    "\n",
    "Once your model is done training, try tweaking your hyperparameters and training again below to improve your accuracy on the test set!"
   ]
  },
  {
   "metadata": {},
   "cell_type": "markdown",
   "source": [
    "## Model Performance Summary\n",
    "\n",
    "Our model achieved an accuracy of 99.00% on the test set, which is an excellent result for the MNIST dataset. This level of performance is comparable to state-of-the-art results on this task.\n",
    "\n",
    "Given this high accuracy, further improvements may yield only marginal gains and could risk overfitting. Instead of trying to improve the model further, we can conclude that:\n",
    "\n",
    "1. The chosen model architecture is well-suited for this task.\n",
    "\n",
    "2. Our hyperparameters and training process were effective.\n",
    "\n",
    "3. The preprocessing and data handling techniques we used were appropriate.\n",
    "\n",
    "Future work could focus on:\n",
    "\n",
    "- Analyzing the few misclassified examples to understand edge cases\n",
    "\n",
    "- Exploring the model's performance on more challenging datasets or real-world handwritten digits\n",
    "\n",
    "- Investigating techniques to reduce model size or inference time while maintaining high accuracy\n",
    "\n",
    "This exercise demonstrates the effectiveness of convolutional neural networks for image classification tasks and provides a strong foundation for tackling more complex computer vision problems."
   ]
  },
  {
   "cell_type": "markdown",
   "metadata": {},
   "source": [
    "## Saving your model\n",
    "Using `torch.save`, save your model for future loading."
   ]
  },
  {
   "cell_type": "code",
   "metadata": {
    "ExecuteTime": {
     "end_time": "2024-10-19T07:28:27.838310Z",
     "start_time": "2024-10-19T07:28:27.811865Z"
    }
   },
   "source": [
    "## YOUR CODE HERE ##\n",
    "\n",
    "import torch\n",
    "import os\n",
    "\n",
    "def save_model(model, filename):\n",
    "    # Create a 'models' directory if it doesn't exist\n",
    "    if not os.path.exists('models'):\n",
    "        os.makedirs('models')\n",
    "    \n",
    "    # Full path for the model\n",
    "    model_path = os.path.join('models', filename)\n",
    "    \n",
    "    # Save the model\n",
    "    torch.save(model.state_dict(), model_path)\n",
    "    print(f\"Model saved to {model_path}\")\n",
    "\n",
    "# Assuming your model is named 'model'\n",
    "model_filename = 'mnist_model.pth'\n",
    "save_model(model, model_filename)\n",
    "\n",
    "# Optionally, you can also save additional information\n",
    "model_info = {\n",
    "    'architecture': str(model),\n",
    "    'accuracy': 99.00,  # The accuracy you achieved\n",
    "    'epochs': 10,  # The number of epochs you trained for\n",
    "    # Add any other relevant information\n",
    "}\n",
    "\n",
    "info_filename = 'mnist_model_info.pth'\n",
    "torch.save(model_info, os.path.join('models', info_filename))\n",
    "print(f\"Model info saved to {os.path.join('models', info_filename)}\")"
   ],
   "outputs": [
    {
     "name": "stdout",
     "output_type": "stream",
     "text": [
      "Model saved to models/mnist_model.pth\n",
      "Model info saved to models/mnist_model_info.pth\n"
     ]
    }
   ],
   "execution_count": 16
  },
  {
   "metadata": {},
   "cell_type": "markdown",
   "source": "## To use this saved model in the future, we can use the code:"
  },
  {
   "metadata": {
    "ExecuteTime": {
     "end_time": "2024-10-19T07:29:19.724822Z",
     "start_time": "2024-10-19T07:29:19.706854Z"
    }
   },
   "cell_type": "code",
   "source": [
    "import torch\n",
    "\n",
    "def load_model(model, filename):\n",
    "    model_path = os.path.join('models', filename)\n",
    "    model.load_state_dict(torch.load(model_path))\n",
    "    print(f\"Model loaded from {model_path}\")\n",
    "    return model\n",
    "\n",
    "# Assuming you have your model class defined as 'Net'\n",
    "loaded_model = Net()\n",
    "loaded_model = load_model(loaded_model, 'mnist_model.pth')\n",
    "\n",
    "# Load the model info if you saved it\n",
    "model_info = torch.load(os.path.join('models', 'mnist_model_info.pth'))\n",
    "print(\"Model info:\", model_info)\n",
    "\n",
    "# Don't forget to call model.eval() if you're using the model for inference\n",
    "loaded_model.eval()"
   ],
   "outputs": [
    {
     "name": "stdout",
     "output_type": "stream",
     "text": [
      "Model loaded from models/mnist_model.pth\n",
      "Model info: {'architecture': 'Net(\\n  (conv1): Conv2d(1, 32, kernel_size=(3, 3), stride=(1, 1))\\n  (conv2): Conv2d(32, 64, kernel_size=(3, 3), stride=(1, 1))\\n  (dropout1): Dropout2d(p=0.25, inplace=False)\\n  (dropout2): Dropout2d(p=0.5, inplace=False)\\n  (fc1): Linear(in_features=9216, out_features=128, bias=True)\\n  (fc2): Linear(in_features=128, out_features=10, bias=True)\\n)', 'accuracy': 99.0, 'epochs': 10}\n"
     ]
    },
    {
     "data": {
      "text/plain": [
       "Net(\n",
       "  (conv1): Conv2d(1, 32, kernel_size=(3, 3), stride=(1, 1))\n",
       "  (conv2): Conv2d(32, 64, kernel_size=(3, 3), stride=(1, 1))\n",
       "  (dropout1): Dropout2d(p=0.25, inplace=False)\n",
       "  (dropout2): Dropout2d(p=0.5, inplace=False)\n",
       "  (fc1): Linear(in_features=9216, out_features=128, bias=True)\n",
       "  (fc2): Linear(in_features=128, out_features=10, bias=True)\n",
       ")"
      ]
     },
     "execution_count": 17,
     "metadata": {},
     "output_type": "execute_result"
    }
   ],
   "execution_count": 17
  }
 ],
 "metadata": {
  "kernelspec": {
   "display_name": "Python [conda env:introai] *",
   "language": "python",
   "name": "conda-env-introai-py"
  },
  "language_info": {
   "codemirror_mode": {
    "name": "ipython",
    "version": 3
   },
   "file_extension": ".py",
   "mimetype": "text/x-python",
   "name": "python",
   "nbconvert_exporter": "python",
   "pygments_lexer": "ipython3",
   "version": "3.7.6"
  }
 },
 "nbformat": 4,
 "nbformat_minor": 4
}
